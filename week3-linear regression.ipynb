{
 "cells": [
  {
   "cell_type": "markdown",
   "metadata": {},
   "source": [
    "# Week 3 — Linear Regression III on CKD Dataset\n",
    "**Forward/Backward Selection, PCR, and PLSR**  \n",
    "\n",
    "This notebook extends Week 2 by adding:\n",
    "- Forward & backward stepwise selection\n",
    "- PCR (Principal Components Regression)\n",
    "- PLSR (Partial Least Squares Regression)\n",
    "\n",
    "Dataset: **Chronic_Kidney_Dsease_data.csv**  \n",
    "Target: **GFR** (log-transform optional)\n"
   ]
  },
  {
   "cell_type": "code",
   "execution_count": null,
   "metadata": {},
   "outputs": [],
   "source": [
    "DATA_PATH = \"Chronic_Kidney_Dsease_data.csv\"\n",
    "TARGET = \"GFR\"\n",
    "TEST_SIZE = 0.2\n",
    "CV_FOLDS = 5\n",
    "RANDOM_STATE = 42\n",
    "LOG_TARGET = False"
   ]
  },
  {
   "cell_type": "code",
   "execution_count": null,
   "metadata": {},
   "outputs": [],
   "source": [
    "import numpy as np\n",
    "import pandas as pd\n",
    "from pathlib import Path\n",
    "import matplotlib.pyplot as plt\n",
    "\n",
    "from sklearn.model_selection import train_test_split, cross_val_score, GridSearchCV\n",
    "from sklearn.compose import ColumnTransformer\n",
    "from sklearn.preprocessing import OneHotEncoder, StandardScaler\n",
    "from sklearn.impute import SimpleImputer\n",
    "from sklearn.pipeline import Pipeline\n",
    "from sklearn.linear_model import LinearRegression\n",
    "from sklearn.decomposition import PCA\n",
    "from sklearn.cross_decomposition import PLSRegression\n",
    "from sklearn.metrics import mean_absolute_error, mean_squared_error, r2_score\n",
    "\n",
    "try:\n",
    "    from sklearn.feature_selection import SequentialFeatureSelector\n",
    "    SKLEARN_SFS = True\n",
    "except:\n",
    "    SKLEARN_SFS = False\n",
    "\n",
    "pd.set_option(\"display.max_columns\", 200)"
   ]
  },
  {
   "cell_type": "code",
   "execution_count": null,
   "metadata": {},
   "outputs": [],
   "source": [
    "df = pd.read_csv(DATA_PATH)\n",
    "print(\"Loaded:\", df.shape)\n",
    "print(df.head())\n",
    "\n",
    "y_raw = df[TARGET].astype(float)\n",
    "X = df.drop(columns=[TARGET])\n",
    "\n",
    "num_cols = X.select_dtypes(include=[np.number]).columns.tolist()\n",
    "cat_cols = X.select_dtypes(exclude=[np.number]).columns.tolist()\n",
    "\n",
    "y = np.log1p(y_raw) if LOG_TARGET else y_raw"
   ]
  },
  {
   "cell_type": "code",
   "execution_count": null,
   "metadata": {},
   "outputs": [],
   "source": [
    "numeric_pre = Pipeline([\n",
    "    (\"imputer\", SimpleImputer(strategy=\"median\")),\n",
    "    (\"scaler\", StandardScaler())\n",
    "])\n",
    "\n",
    "categorical_pre = Pipeline([\n",
    "    (\"imputer\", SimpleImputer(strategy=\"most_frequent\")),\n",
    "    (\"onehot\", OneHotEncoder(handle_unknown=\"ignore\", sparse_output=False))\n",
    "])\n",
    "\n",
    "preprocess = ColumnTransformer([\n",
    "    (\"num\", numeric_pre, num_cols),\n",
    "    (\"cat\", categorical_pre, cat_cols)\n",
    "])"
   ]
  },
  {
   "cell_type": "code",
   "execution_count": null,
   "metadata": {},
   "outputs": [],
   "source": [
    "X_train, X_test, y_train, y_test = train_test_split(\n",
    "    X, y, test_size=TEST_SIZE, random_state=RANDOM_STATE\n",
    ")"
   ]
  },
  {
   "cell_type": "code",
   "execution_count": null,
   "metadata": {},
   "outputs": [],
   "source": [
    "def evaluate(y_true, y_pred, log_target=False):\n",
    "    if log_target:\n",
    "        y_true = np.expm1(y_true)\n",
    "        y_pred = np.expm1(y_pred)\n",
    "    mae = mean_absolute_error(y_true, y_pred)\n",
    "    rmse = mean_squared_error(y_true, y_pred) ** 0.5\n",
    "    r2 = r2_score(y_true, y_pred)\n",
    "    return mae, rmse, r2\n",
    "\n",
    "def summarize(name, model):\n",
    "    tr = model.predict(X_train)\n",
    "    te = model.predict(X_test)\n",
    "    mae_tr, rmse_tr, r2_tr = evaluate(y_train, tr, LOG_TARGET)\n",
    "    mae_te, rmse_te, r2_te = evaluate(y_test, te, LOG_TARGET)\n",
    "    return dict(Model=name,\n",
    "                MAE_train=mae_tr, RMSE_train=rmse_tr, R2_train=r2_tr,\n",
    "                MAE_test=mae_te, RMSE_test=rmse_te, R2_test=r2_te)"
   ]
  },
  {
   "cell_type": "code",
   "execution_count": null,
   "metadata": {},
   "outputs": [],
   "source": [
    "ols = Pipeline([(\"preprocess\", preprocess),\n",
    "                (\"model\", LinearRegression())])\n",
    "ols.fit(X_train, y_train)\n",
    "ols_results = summarize(\"OLS\", ols)\n",
    "pd.DataFrame([ols_results])"
   ]
  },
  {
   "cell_type": "code",
   "execution_count": null,
   "metadata": {},
   "outputs": [],
   "source": [
    "# Stepwise feature selection (forward)\n",
    "if SKLEARN_SFS:\n",
    "    sfs_fwd = SequentialFeatureSelector(LinearRegression(),\n",
    "                                       n_features_to_select=5,\n",
    "                                       direction=\"forward\", cv=CV_FOLDS)\n",
    "    sfs_fwd.fit(pd.get_dummies(X_train), y_train)\n",
    "    fwd_features = pd.get_dummies(X_train).columns[sfs_fwd.get_support()].tolist()\n",
    "    print(\"Forward features:\", fwd_features[:10])"
   ]
  },
  {
   "cell_type": "code",
   "execution_count": null,
   "metadata": {},
   "outputs": [],
   "source": [
    "pcr_pipe = Pipeline([(\"preprocess\", preprocess),\n",
    "                     (\"pca\", PCA()),\n",
    "                     (\"model\", LinearRegression())])\n",
    "\n",
    "param = {\"pca__n_components\": list(range(2, min(15, X_train.shape[1])))}\n",
    "pcr_gs = GridSearchCV(pcr_pipe, param, cv=CV_FOLDS, scoring=\"neg_mean_squared_error\")\n",
    "pcr_gs.fit(X_train, y_train)\n",
    "\n",
    "pcr_results = summarize(\"PCR\", pcr_gs.best_estimator_)\n",
    "pd.DataFrame([ols_results, pcr_results])"
   ]
  },
  {
   "cell_type": "code",
   "execution_count": null,
   "metadata": {},
   "outputs": [],
   "source": [
    "pls = Pipeline([(\"preprocess\", preprocess),\n",
    "                (\"model\", PLSRegression())])\n",
    "\n",
    "param = {\"model__n_components\": list(range(2, min(15, X_train.shape[1])))}\n",
    "pls_gs = GridSearchCV(pls, param, cv=CV_FOLDS, scoring=\"neg_mean_squared_error\")\n",
    "pls_gs.fit(X_train, y_train)\n",
    "\n",
    "pls_results = summarize(\"PLSR\", pls_gs.best_estimator_)\n",
    "pd.DataFrame([ols_results, pcr_results, pls_results])"
   ]
  },
  {
   "cell_type": "markdown",
   "metadata": {},
   "source": [
    "## Takeaways\n",
    "- Which model generalized best?  \n",
    "- Did PCR/PLSR help?  \n",
    "- Did stepwise improve interpretability?  \n",
    "- Any residual patterns?  \n",
    "- Next steps (Week 4+: classification, nonlinear models).\n"
   ]
  }
 ],
 "metadata": {
  "kernelspec": {
   "display_name": "Python 3",
   "language": "python",
   "name": "python3"
  },
  "language_info": {
   "name": "python",
   "version": "3.9"
  }
 },
 "nbformat": 4,
 "nbformat_minor": 5
}
